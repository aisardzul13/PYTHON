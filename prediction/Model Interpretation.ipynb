{
 "cells": [
  {
   "cell_type": "markdown",
   "metadata": {},
   "source": [
    "### Retrieving information from the predictor insight table\n",
    "- The predictor insight graph table contains all the information needed to construct the predictor insight graph. For each value the predictor takes, it has the number of observations with this value and the target incidence within this group. The predictor insight graph table of the predictor Country is loaded as a pandas object pig_table"
   ]
  },
  {
   "cell_type": "code",
   "execution_count": 21,
   "metadata": {},
   "outputs": [],
   "source": [
    "import pandas as pd"
   ]
  },
  {
   "cell_type": "code",
   "execution_count": 22,
   "metadata": {},
   "outputs": [
    {
     "data": {
      "text/html": [
       "<div>\n",
       "<style scoped>\n",
       "    .dataframe tbody tr th:only-of-type {\n",
       "        vertical-align: middle;\n",
       "    }\n",
       "\n",
       "    .dataframe tbody tr th {\n",
       "        vertical-align: top;\n",
       "    }\n",
       "\n",
       "    .dataframe thead th {\n",
       "        text-align: right;\n",
       "    }\n",
       "</style>\n",
       "<table border=\"1\" class=\"dataframe\">\n",
       "  <thead>\n",
       "    <tr style=\"text-align: right;\">\n",
       "      <th></th>\n",
       "      <th>Country</th>\n",
       "      <th>Size</th>\n",
       "      <th>Incidence</th>\n",
       "    </tr>\n",
       "  </thead>\n",
       "  <tbody>\n",
       "    <tr>\n",
       "      <th>0</th>\n",
       "      <td>India</td>\n",
       "      <td>49849</td>\n",
       "      <td>0.05</td>\n",
       "    </tr>\n",
       "    <tr>\n",
       "      <th>1</th>\n",
       "      <td>UK</td>\n",
       "      <td>10057</td>\n",
       "      <td>0.05</td>\n",
       "    </tr>\n",
       "    <tr>\n",
       "      <th>2</th>\n",
       "      <td>USA</td>\n",
       "      <td>40094</td>\n",
       "      <td>0.05</td>\n",
       "    </tr>\n",
       "  </tbody>\n",
       "</table>\n",
       "</div>"
      ],
      "text/plain": [
       "  Country   Size  Incidence\n",
       "0   India  49849       0.05\n",
       "1      UK  10057       0.05\n",
       "2     USA  40094       0.05"
      ]
     },
     "execution_count": 22,
     "metadata": {},
     "output_type": "execute_result"
    }
   ],
   "source": [
    "pig_table = pd.DataFrame({'Country':['India','UK','USA'], 'Size':[49849,10057,40094], 'Incidence':[0.05,0.05,0.05]})\n",
    "pig_table"
   ]
  },
  {
   "cell_type": "code",
   "execution_count": 23,
   "metadata": {},
   "outputs": [
    {
     "name": "stdout",
     "output_type": "stream",
     "text": [
      "  Country   Size  Incidence\n",
      "0   India  49849       0.05\n",
      "1      UK  10057       0.05\n",
      "2     USA  40094       0.05\n"
     ]
    }
   ],
   "source": [
    "# Inspect the predictor insight graph table of Country\n",
    "print(pig_table)"
   ]
  },
  {
   "cell_type": "code",
   "execution_count": 24,
   "metadata": {},
   "outputs": [
    {
     "name": "stdout",
     "output_type": "stream",
     "text": [
      "1    10057\n",
      "Name: Size, dtype: int64\n"
     ]
    }
   ],
   "source": [
    "# Print the number of UK donors\n",
    "print(pig_table[\"Size\"][pig_table[\"Country\"]==\"UK\"])"
   ]
  },
  {
   "cell_type": "code",
   "execution_count": 25,
   "metadata": {},
   "outputs": [
    {
     "name": "stdout",
     "output_type": "stream",
     "text": [
      "2    0.05\n",
      "Name: Incidence, dtype: float64\n",
      "0    0.05\n",
      "Name: Incidence, dtype: float64\n"
     ]
    }
   ],
   "source": [
    "# Check the target incidence of USA and India donors\n",
    "print(pig_table[\"Incidence\"][pig_table[\"Country\"]==\"USA\"])\n",
    "print(pig_table[\"Incidence\"][pig_table[\"Country\"]==\"India\"])"
   ]
  },
  {
   "cell_type": "markdown",
   "metadata": {},
   "source": [
    "###  The target incidence of USA and India donors is the same, indicating that country is not a good variable to predict donations."
   ]
  },
  {
   "cell_type": "markdown",
   "metadata": {},
   "source": [
    "#### Discretization of a certain variable\n",
    "- In order to make predictor insight graphs for continuous variables, we first need to discretize them. In Python, we can discretize pandas columns using the `qcut` method.\n",
    "- To check whether the variable was nicely discretized, we can verify that the bins have equal size using the groupby method:\n",
    "`print(basetable.groupby(\"discretized_variable\").size()`"
   ]
  },
  {
   "cell_type": "code",
   "execution_count": 26,
   "metadata": {},
   "outputs": [
    {
     "name": "stdout",
     "output_type": "stream",
     "text": [
      "<class 'pandas.core.frame.DataFrame'>\n",
      "RangeIndex: 25000 entries, 0 to 24999\n",
      "Data columns (total 14 columns):\n",
      " #   Column                 Non-Null Count  Dtype  \n",
      "---  ------                 --------------  -----  \n",
      " 0   target                 25000 non-null  int64  \n",
      " 1   gender_F               25000 non-null  int64  \n",
      " 2   income_high            25000 non-null  int64  \n",
      " 3   income_low             25000 non-null  int64  \n",
      " 4   country_USA            25000 non-null  int64  \n",
      " 5   country_India          25000 non-null  int64  \n",
      " 6   country_UK             25000 non-null  int64  \n",
      " 7   age                    25000 non-null  int64  \n",
      " 8   time_since_last_gift   25000 non-null  int64  \n",
      " 9   time_since_first_gift  25000 non-null  int64  \n",
      " 10  max_gift               25000 non-null  float64\n",
      " 11  min_gift               25000 non-null  float64\n",
      " 12  mean_gift              25000 non-null  float64\n",
      " 13  number_gift            25000 non-null  int64  \n",
      "dtypes: float64(3), int64(11)\n",
      "memory usage: 2.7 MB\n"
     ]
    }
   ],
   "source": [
    "\n",
    "basetable = pd.read_csv('basetable_ex2_4.csv')\n",
    "basetable.info()"
   ]
  },
  {
   "cell_type": "code",
   "execution_count": 27,
   "metadata": {},
   "outputs": [
    {
     "name": "stdout",
     "output_type": "stream",
     "text": [
      "bins_recency\n",
      "(31.999, 315.0]     2509\n",
      "(315.0, 459.0]      2492\n",
      "(459.0, 571.0]      2506\n",
      "(571.0, 656.0]      2538\n",
      "(656.0, 736.0]      2461\n",
      "(736.0, 832.0]      2501\n",
      "(832.0, 931.0]      2507\n",
      "(931.0, 1047.0]     2499\n",
      "(1047.0, 1211.0]    2498\n",
      "(1211.0, 2305.0]    2489\n",
      "dtype: int64\n"
     ]
    }
   ],
   "source": [
    "# Discretize the variable time_since_last_donation in 10 bins\n",
    "basetable[\"bins_recency\"] = pd.qcut(basetable['time_since_last_gift'], 10)\n",
    "\n",
    "# Print the group sizes of the discretized variable\n",
    "print(basetable.groupby(\"bins_recency\").size())\n"
   ]
  },
  {
   "cell_type": "markdown",
   "metadata": {},
   "source": [
    "### Discretizing all variables\n",
    "- Instead of discretizing the continuous variables one by one, it is easier to discretize them automatically. \n",
    "- Only variables that are continuous should be discretized. You can verify whether variables should be discretized by checking whether they have more than a predefined number of different values.\n",
    "- Only variables that are continuous should be discretized. we can verify whether variables should be discretized by checking whether they have more than a predefined number of different values.\n",
    "\n",
    "\n",
    "\n",
    "- Make a list variables containing all the column names of the basetable.\n",
    "- Create a loop that checks all the variables in the list variables.\n",
    "- Complete the ifstatement such that only variables with more than 5 different values are discretized.\n",
    "- Group the continuous variables in 10 bins using the qcut method.\n"
   ]
  },
  {
   "cell_type": "code",
   "execution_count": 28,
   "metadata": {},
   "outputs": [
    {
     "name": "stdout",
     "output_type": "stream",
     "text": [
      "Index(['target', 'gender_F', 'income_high', 'income_low', 'country_USA',\n",
      "       'country_India', 'country_UK', 'age', 'time_since_last_gift',\n",
      "       'time_since_first_gift', 'max_gift', 'min_gift', 'mean_gift',\n",
      "       'number_gift', 'bins_recency'],\n",
      "      dtype='object')\n"
     ]
    },
    {
     "ename": "ValueError",
     "evalue": "Bin edges must be unique: array([ 1.,  1.,  3.,  3.,  4.,  5.,  6.,  7.,  8.,  9., 18.]).\nYou can drop duplicate edges by setting the 'duplicates' kwarg",
     "output_type": "error",
     "traceback": [
      "\u001b[1;31m---------------------------------------------------------------------------\u001b[0m",
      "\u001b[1;31mValueError\u001b[0m                                Traceback (most recent call last)",
      "\u001b[1;32m~\\AppData\\Local\\Temp\\ipykernel_20568\\1036092609.py\u001b[0m in \u001b[0;36m<cell line: 9>\u001b[1;34m()\u001b[0m\n\u001b[0;32m     10\u001b[0m     \u001b[1;32mif\u001b[0m \u001b[0mlen\u001b[0m\u001b[1;33m(\u001b[0m\u001b[0mbasetable\u001b[0m\u001b[1;33m.\u001b[0m\u001b[0mgroupby\u001b[0m\u001b[1;33m(\u001b[0m\u001b[0mvariable\u001b[0m\u001b[1;33m)\u001b[0m\u001b[1;33m)\u001b[0m\u001b[1;33m>\u001b[0m\u001b[1;36m5\u001b[0m\u001b[1;33m:\u001b[0m\u001b[1;33m\u001b[0m\u001b[1;33m\u001b[0m\u001b[0m\n\u001b[0;32m     11\u001b[0m         \u001b[0mnew_variable\u001b[0m \u001b[1;33m=\u001b[0m \u001b[1;34m\"disc_\"\u001b[0m \u001b[1;33m+\u001b[0m \u001b[0mvariable\u001b[0m\u001b[1;33m\u001b[0m\u001b[1;33m\u001b[0m\u001b[0m\n\u001b[1;32m---> 12\u001b[1;33m         \u001b[0mbasetable\u001b[0m\u001b[1;33m[\u001b[0m\u001b[0mnew_variable\u001b[0m\u001b[1;33m]\u001b[0m \u001b[1;33m=\u001b[0m \u001b[0mpd\u001b[0m\u001b[1;33m.\u001b[0m\u001b[0mqcut\u001b[0m\u001b[1;33m(\u001b[0m\u001b[0mbasetable\u001b[0m\u001b[1;33m[\u001b[0m\u001b[0mvariable\u001b[0m\u001b[1;33m]\u001b[0m\u001b[1;33m,\u001b[0m \u001b[1;36m10\u001b[0m\u001b[1;33m)\u001b[0m\u001b[1;33m\u001b[0m\u001b[1;33m\u001b[0m\u001b[0m\n\u001b[0m\u001b[0;32m     13\u001b[0m \u001b[1;33m\u001b[0m\u001b[0m\n\u001b[0;32m     14\u001b[0m \u001b[1;31m# Print the columns in the new basetable\u001b[0m\u001b[1;33m\u001b[0m\u001b[1;33m\u001b[0m\u001b[1;33m\u001b[0m\u001b[0m\n",
      "\u001b[1;32mc:\\Python39\\lib\\site-packages\\pandas\\core\\reshape\\tile.py\u001b[0m in \u001b[0;36mqcut\u001b[1;34m(x, q, labels, retbins, precision, duplicates)\u001b[0m\n\u001b[0;32m    377\u001b[0m     \u001b[0mbins\u001b[0m \u001b[1;33m=\u001b[0m \u001b[0mnp\u001b[0m\u001b[1;33m.\u001b[0m\u001b[0mquantile\u001b[0m\u001b[1;33m(\u001b[0m\u001b[0mx_np\u001b[0m\u001b[1;33m,\u001b[0m \u001b[0mquantiles\u001b[0m\u001b[1;33m)\u001b[0m\u001b[1;33m\u001b[0m\u001b[1;33m\u001b[0m\u001b[0m\n\u001b[0;32m    378\u001b[0m \u001b[1;33m\u001b[0m\u001b[0m\n\u001b[1;32m--> 379\u001b[1;33m     fac, bins = _bins_to_cuts(\n\u001b[0m\u001b[0;32m    380\u001b[0m         \u001b[0mx\u001b[0m\u001b[1;33m,\u001b[0m\u001b[1;33m\u001b[0m\u001b[1;33m\u001b[0m\u001b[0m\n\u001b[0;32m    381\u001b[0m         \u001b[0mbins\u001b[0m\u001b[1;33m,\u001b[0m\u001b[1;33m\u001b[0m\u001b[1;33m\u001b[0m\u001b[0m\n",
      "\u001b[1;32mc:\\Python39\\lib\\site-packages\\pandas\\core\\reshape\\tile.py\u001b[0m in \u001b[0;36m_bins_to_cuts\u001b[1;34m(x, bins, right, labels, precision, include_lowest, dtype, duplicates, ordered)\u001b[0m\n\u001b[0;32m    418\u001b[0m     \u001b[1;32mif\u001b[0m \u001b[0mlen\u001b[0m\u001b[1;33m(\u001b[0m\u001b[0munique_bins\u001b[0m\u001b[1;33m)\u001b[0m \u001b[1;33m<\u001b[0m \u001b[0mlen\u001b[0m\u001b[1;33m(\u001b[0m\u001b[0mbins\u001b[0m\u001b[1;33m)\u001b[0m \u001b[1;32mand\u001b[0m \u001b[0mlen\u001b[0m\u001b[1;33m(\u001b[0m\u001b[0mbins\u001b[0m\u001b[1;33m)\u001b[0m \u001b[1;33m!=\u001b[0m \u001b[1;36m2\u001b[0m\u001b[1;33m:\u001b[0m\u001b[1;33m\u001b[0m\u001b[1;33m\u001b[0m\u001b[0m\n\u001b[0;32m    419\u001b[0m         \u001b[1;32mif\u001b[0m \u001b[0mduplicates\u001b[0m \u001b[1;33m==\u001b[0m \u001b[1;34m\"raise\"\u001b[0m\u001b[1;33m:\u001b[0m\u001b[1;33m\u001b[0m\u001b[1;33m\u001b[0m\u001b[0m\n\u001b[1;32m--> 420\u001b[1;33m             raise ValueError(\n\u001b[0m\u001b[0;32m    421\u001b[0m                 \u001b[1;34mf\"Bin edges must be unique: {repr(bins)}.\\n\"\u001b[0m\u001b[1;33m\u001b[0m\u001b[1;33m\u001b[0m\u001b[0m\n\u001b[0;32m    422\u001b[0m                 \u001b[1;34mf\"You can drop duplicate edges by setting the 'duplicates' kwarg\"\u001b[0m\u001b[1;33m\u001b[0m\u001b[1;33m\u001b[0m\u001b[0m\n",
      "\u001b[1;31mValueError\u001b[0m: Bin edges must be unique: array([ 1.,  1.,  3.,  3.,  4.,  5.,  6.,  7.,  8.,  9., 18.]).\nYou can drop duplicate edges by setting the 'duplicates' kwarg"
     ]
    }
   ],
   "source": [
    "# Print the columns in the original basetable\n",
    "print(basetable.columns)\n",
    "\n",
    "# Get all the variable names except \"target\"\n",
    "variables = list(basetable.columns)\n",
    "variables.remove(\"target\")\n",
    "\n",
    "# Loop through all the variables and discretize in 10 bins if there are more than 5 different values\n",
    "for variable in variables:\n",
    "    if len(basetable.groupby(variable))>5:\n",
    "        new_variable = \"disc_\" + variable\n",
    "        basetable[new_variable] = pd.qcut(basetable[variable], 10)\n",
    "        \n",
    "# Print the columns in the new basetable\n",
    "print(basetable.columns)"
   ]
  },
  {
   "cell_type": "markdown",
   "metadata": {},
   "source": [
    "```python\n",
    "Index(['target', 'gender_F', 'gender_M', 'income_average', 'income_low',\n",
    "       'income_high', 'country_USA', 'country_India', 'country_UK', 'age',\n",
    "       'time_since_last_gift', 'time_since_first_gift', 'max_gift', 'min_gift',\n",
    "       'mean_gift', 'median_gift'],\n",
    "      dtype='object')\n",
    "Index(['target', 'gender_F', 'gender_M', 'income_average', 'income_low',\n",
    "       'income_high', 'country_USA', 'country_India', 'country_UK', 'age',\n",
    "       'time_since_last_gift', 'time_since_first_gift', 'max_gift', 'min_gift',\n",
    "       'mean_gift', 'median_gift', 'disc_age', 'disc_time_since_last_gift',\n",
    "       'disc_time_since_first_gift', 'disc_max_gift', 'disc_min_gift',\n",
    "       'disc_mean_gift', 'disc_median_gift'],\n",
    "      dtype='object')\n",
    "```"
   ]
  },
  {
   "cell_type": "markdown",
   "metadata": {},
   "source": [
    "### Making clean cuts\n",
    "- The `qcut` method divides the variable in n_bins equal bins. In some cases, however, it is nice to choose our own bins. The method cut in python allows us to choose our own bins.\n",
    "\n",
    "- Discretize the variable number_gift in three bins with borders 0 and 5, 5 and 10, 10 and 20 and assign this variable to a new column called `disc_number_gift`.\n",
    "- Count the number of observations in each group.\n"
   ]
  },
  {
   "cell_type": "code",
   "execution_count": 29,
   "metadata": {},
   "outputs": [
    {
     "name": "stdout",
     "output_type": "stream",
     "text": [
      "disc_number_gift\n",
      "(0, 5]      13808\n",
      "(5, 10]     10220\n",
      "(10, 20]      972\n",
      "dtype: int64\n"
     ]
    }
   ],
   "source": [
    "# Discretize the variable \n",
    "basetable[\"disc_number_gift\"] = pd.cut(basetable['number_gift'],[0,5,10, 20])\n",
    "\n",
    "# Count the number of observations per group\n",
    "print(basetable.groupby(\"disc_number_gift\").size())"
   ]
  },
  {
   "cell_type": "markdown",
   "metadata": {},
   "source": [
    "```python\n",
    "disc_number_gift\n",
    "(0, 5)      55063\n",
    "(5, 10)     41120\n",
    "(10, 20)     3817\n",
    "dtype: int64\n",
    "```\n",
    "\n",
    "- Notice that the bins aren't approximately equally sized anymore."
   ]
  }
 ],
 "metadata": {
  "kernelspec": {
   "display_name": "Python 3",
   "language": "python",
   "name": "python3"
  },
  "language_info": {
   "codemirror_mode": {
    "name": "ipython",
    "version": 3
   },
   "file_extension": ".py",
   "mimetype": "text/x-python",
   "name": "python",
   "nbconvert_exporter": "python",
   "pygments_lexer": "ipython3",
   "version": "3.9.6"
  }
 },
 "nbformat": 4,
 "nbformat_minor": 2
}
